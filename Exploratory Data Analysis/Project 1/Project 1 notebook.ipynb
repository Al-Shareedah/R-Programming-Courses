{
 "cells": [
  {
   "cell_type": "code",
   "execution_count": 3,
   "id": "a0b18fa5",
   "metadata": {},
   "outputs": [
    {
     "data": {
      "text/html": [
       "<strong>png:</strong> 2"
      ],
      "text/latex": [
       "\\textbf{png:} 2"
      ],
      "text/markdown": [
       "**png:** 2"
      ],
      "text/plain": [
       "png \n",
       "  2 "
      ]
     },
     "metadata": {},
     "output_type": "display_data"
    }
   ],
   "source": [
    "##Extract file data\n",
    "housedata <-read.table(\"household_power_consumption.txt\", header=TRUE, sep=\";\", na.strings = \"?\")\n",
    "## limit the data from 1/2/2007 and 2/2/2007 for plotting\n",
    "df <-rbind(housedata[housedata$Date==\"1/2/2007\",],housedata[housedata$Date==\"2/2/2007\",])\n",
    "\n",
    "## transform to date format\n",
    "df$Date <- as.Date(df$Date,\"%d/%m/%Y\")\n",
    "df<-cbind(df, \"DateTime\" = as.POSIXct(paste(df$Date, df$Time)))\n",
    "\n",
    "# create histogram\n",
    "png(\"plot 1.png\", width = 480, height = 480)\n",
    "hist(as.numeric(df$Global_active_power), col=\"Red\", \n",
    "     main=\"Global Active Power\", xlab=\"Global Active power (kilowatts)\", \n",
    "     ylab=\"Frequency\")\n",
    "dev.off()"
   ]
  },
  {
   "cell_type": "code",
   "execution_count": 4,
   "id": "a24235b7",
   "metadata": {},
   "outputs": [
    {
     "data": {
      "text/html": [
       "<strong>png:</strong> 2"
      ],
      "text/latex": [
       "\\textbf{png:} 2"
      ],
      "text/markdown": [
       "**png:** 2"
      ],
      "text/plain": [
       "png \n",
       "  2 "
      ]
     },
     "metadata": {},
     "output_type": "display_data"
    }
   ],
   "source": [
    "## Similar to plot1.R the first steps are repeated.\n",
    "##Extract file data\n",
    "housedata <-read.table(\"household_power_consumption.txt\", header=TRUE, sep=\";\", na.strings = \"?\")\n",
    "## limit the data from 1/2/2007 and 2/2/2007 for plotting\n",
    "df <-rbind(housedata[housedata$Date==\"1/2/2007\",],housedata[housedata$Date==\"2/2/2007\",])\n",
    "\n",
    "## transform to date format\n",
    "df$Date <- as.Date(df$Date,\"%d/%m/%Y\")\n",
    "df<-cbind(df, \"DateTime\" = as.POSIXct(paste(df$Date, df$Time)))\n",
    "\n",
    "# create the plot\n",
    "png(\"plot 2.png\", width = 480, height = 480)\n",
    "plot(df$Global_active_power ~ df$DateTime, type=\"l\", xlab= \"\", ylab=\"Global Active power (kilowatts)\")\n",
    "dev.off()"
   ]
  },
  {
   "cell_type": "code",
   "execution_count": 26,
   "id": "458f9943",
   "metadata": {},
   "outputs": [
    {
     "data": {
      "text/html": [
       "<strong>png:</strong> 2"
      ],
      "text/latex": [
       "\\textbf{png:} 2"
      ],
      "text/markdown": [
       "**png:** 2"
      ],
      "text/plain": [
       "png \n",
       "  2 "
      ]
     },
     "metadata": {},
     "output_type": "display_data"
    }
   ],
   "source": [
    "## Similar to plot2.R the first steps are repeated.\n",
    "##Extract file data\n",
    "housedata <-read.table(\"household_power_consumption.txt\", header=TRUE, sep=\";\", na.strings = \"?\")\n",
    "## limit the data from 1/2/2007 and 2/2/2007 for plotting\n",
    "df <-rbind(housedata[housedata$Date==\"1/2/2007\",],housedata[housedata$Date==\"2/2/2007\",])\n",
    "\n",
    "## transform to date format\n",
    "df$Date <- as.Date(df$Date,\"%d/%m/%Y\")\n",
    "df<-cbind(df, \"DateTime\" = as.POSIXct(paste(df$Date, df$Time)))\n",
    "\n",
    "# create the plot with multiple lines\n",
    "png(\"plot3.png\", width = 480, height = 480)\n",
    "\n",
    "with(df, {plot(Sub_metering_1 ~ DateTime, type=\"l\", xlab= \"\", ylab=\"Energy Sub Metering\")})\n",
    "\n",
    "lines(df$Sub_metering_2 ~ df$DateTime, col = 'Red')\n",
    "lines(df$Sub_metering_3 ~ df$DateTime, col = 'Blue')\n",
    "legend(\"topright\", lty=1, lwd =3, col=c(\"black\",\"red\",\"blue\") ,legend=c(\"Sub_metering_1\",\"Sub_metering_2\",\"Sub_metering_3\"))\n",
    "\n",
    "dev.off()"
   ]
  },
  {
   "cell_type": "code",
   "execution_count": 20,
   "id": "850513b1",
   "metadata": {},
   "outputs": [
    {
     "data": {
      "text/html": [
       "<strong>png:</strong> 2"
      ],
      "text/latex": [
       "\\textbf{png:} 2"
      ],
      "text/markdown": [
       "**png:** 2"
      ],
      "text/plain": [
       "png \n",
       "  2 "
      ]
     },
     "metadata": {},
     "output_type": "display_data"
    }
   ],
   "source": [
    "## Similar to plot3.R the first steps are repeated.\n",
    "##Extract file data\n",
    "housedata <-read.table(\"household_power_consumption.txt\", header=TRUE, sep=\";\", na.strings = \"?\")\n",
    "## limit the data from 1/2/2007 and 2/2/2007 for plotting\n",
    "df <-rbind(housedata[housedata$Date==\"1/2/2007\",],housedata[housedata$Date==\"2/2/2007\",])\n",
    "\n",
    "## transform to date format\n",
    "df$Date <- as.Date(df$Date,\"%d/%m/%Y\")\n",
    "df<-cbind(df, \"DateTime\" = as.POSIXct(paste(df$Date, df$Time)))\n",
    "\n",
    "# create the plot with multiple subplots\n",
    "png(\"plot4.png\", width = 480, height = 480)\n",
    "\n",
    "with(df, {plot(Sub_metering_1 ~ DateTime, type=\"l\", xlab= \"\", ylab=\"Energy Sub Metering\")})\n",
    "\n",
    "par(mfrow=c(2,2))\n",
    "plot(df$Global_active_power ~ df$DateTime, type=\"l\")\n",
    "plot(df$Voltage ~ df$DateTime, type=\"l\")\n",
    "\n",
    "with(df, {plot(Sub_metering_1 ~ DateTime, type=\"l\")})\n",
    "lines(df$Sub_metering_2 ~ df$DateTime, col = 'Red')\n",
    "lines(df$Sub_metering_3 ~ df$DateTime, col = 'Blue')\n",
    "\n",
    "plot(house_a_data$Global_reactive_power ~ house_a_data$DateTime, type=\"l\")\n",
    "dev.off()"
   ]
  },
  {
   "cell_type": "code",
   "execution_count": null,
   "id": "83145e84",
   "metadata": {},
   "outputs": [],
   "source": []
  }
 ],
 "metadata": {
  "kernelspec": {
   "display_name": "R",
   "language": "R",
   "name": "ir"
  },
  "language_info": {
   "codemirror_mode": "r",
   "file_extension": ".r",
   "mimetype": "text/x-r-source",
   "name": "R",
   "pygments_lexer": "r",
   "version": "3.6.1"
  }
 },
 "nbformat": 4,
 "nbformat_minor": 5
}
