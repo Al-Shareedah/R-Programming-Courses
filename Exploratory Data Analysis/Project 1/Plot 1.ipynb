{
 "cells": [
  {
   "cell_type": "code",
   "execution_count": 9,
   "id": "ad4768bd",
   "metadata": {},
   "outputs": [
    {
     "name": "stderr",
     "output_type": "stream",
     "text": [
      "also installing the dependencies 'fastmap', 'lattice', 'colorspace', 'bit', 'htmltools', 'sass', 'glue', 'rappdirs', 'rematch', 'nlme', 'Matrix', 'farver', 'labeling', 'munsell', 'RColorBrewer', 'viridisLite', 'bit64', 'prettyunits', 'evaluate', 'highr', 'xfun', 'bslib', 'jquerylib', 'tinytex', 'backports', 'generics', 'assertthat', 'blob', 'DBI', 'tidyselect', 'rlang', 'vctrs', 'data.table', 'cli', 'gargle', 'cellranger', 'ids', 'gtable', 'isoband', 'MASS', 'mgcv', 'scales', 'cpp11', 'clipr', 'vroom', 'tzdb', 'progress', 'fs', 'knitr', 'rmarkdown', 'selectr', 'broom', 'crayon', 'dbplyr', 'dplyr', 'dtplyr', 'forcats', 'googledrive', 'googlesheets4', 'ggplot2', 'haven', 'hms', 'jsonlite', 'lubridate', 'modelr', 'purrr', 'readr', 'readxl', 'reprex', 'rvest', 'tidyr', 'xml2'\n",
      "\n"
     ]
    },
    {
     "name": "stdout",
     "output_type": "stream",
     "text": [
      "\n",
      "  There are binary versions available but the source versions are later:\n",
      "               binary  source needs_compilation\n",
      "lattice       0.20-44 0.20-45              TRUE\n",
      "colorspace      2.0-1   2.0-3              TRUE\n",
      "htmltools     0.5.1.1   0.5.2              TRUE\n",
      "sass            0.4.0   0.4.1              TRUE\n",
      "glue            1.4.2   1.6.2              TRUE\n",
      "nlme          3.1-152 3.1-157              TRUE\n",
      "Matrix          1.3-3   1.4-1              TRUE\n",
      "RColorBrewer    1.1-2   1.1-3             FALSE\n",
      "evaluate         0.14    0.15             FALSE\n",
      "xfun             0.22    0.30              TRUE\n",
      "bslib           0.2.4   0.3.1             FALSE\n",
      "tinytex          0.31    0.38             FALSE\n",
      "backports       1.2.1   1.4.1              TRUE\n",
      "generics        0.1.0   0.1.2             FALSE\n",
      "blob            1.2.1   1.2.3             FALSE\n",
      "DBI             1.1.1   1.1.2             FALSE\n",
      "tidyselect      1.1.1   1.1.2              TRUE\n",
      "rlang          0.4.11   1.0.2              TRUE\n",
      "vctrs           0.3.8   0.4.1              TRUE\n",
      "data.table     1.14.0  1.14.2              TRUE\n",
      "cli             2.5.0   3.3.0              TRUE\n",
      "gargle          1.1.0   1.2.0             FALSE\n",
      "isoband         0.2.4   0.2.5              TRUE\n",
      "MASS           7.3-54  7.3-57              TRUE\n",
      "mgcv           1.8-35  1.8-40              TRUE\n",
      "scales          1.1.1   1.2.0             FALSE\n",
      "cpp11           0.2.7   0.4.2             FALSE\n",
      "clipr           0.7.1   0.8.0             FALSE\n",
      "vroom           1.4.0   1.5.7              TRUE\n",
      "tzdb            0.1.1   0.3.0              TRUE\n",
      "fs              1.5.0   1.5.2              TRUE\n",
      "knitr            1.33    1.39             FALSE\n",
      "rmarkdown         2.8    2.14             FALSE\n",
      "broom           0.7.6   0.8.0             FALSE\n",
      "crayon          1.4.1   1.5.1             FALSE\n",
      "dplyr           1.0.6   1.0.9              TRUE\n",
      "dtplyr          1.1.0   1.2.1             FALSE\n",
      "googledrive     1.0.1   2.0.0             FALSE\n",
      "googlesheets4   0.3.0   1.0.0             FALSE\n",
      "ggplot2         3.3.3   3.3.6             FALSE\n",
      "haven           2.4.1   2.5.0              TRUE\n",
      "hms             1.0.0   1.1.1             FALSE\n",
      "jsonlite        1.7.2   1.8.0              TRUE\n",
      "lubridate      1.7.10   1.8.0              TRUE\n",
      "readr           1.4.0   2.1.2              TRUE\n",
      "readxl          1.3.1   1.4.0              TRUE\n",
      "reprex          2.0.0   2.0.1             FALSE\n",
      "rvest           1.0.0   1.0.2             FALSE\n",
      "tidyr           1.1.3   1.2.0              TRUE\n",
      "xml2            1.3.2   1.3.3              TRUE\n",
      "\n",
      "  Binaries will be installed\n",
      "package 'fastmap' successfully unpacked and MD5 sums checked\n",
      "package 'lattice' successfully unpacked and MD5 sums checked\n",
      "package 'colorspace' successfully unpacked and MD5 sums checked\n",
      "package 'bit' successfully unpacked and MD5 sums checked\n",
      "package 'htmltools' successfully unpacked and MD5 sums checked\n"
     ]
    },
    {
     "name": "stderr",
     "output_type": "stream",
     "text": [
      "Warning message:\n",
      "\"cannot remove prior installation of package 'htmltools'\"Warning message in file.copy(savedcopy, lib, recursive = TRUE):\n",
      "\"problem copying C:\\Users\\Al-Hassan\\anaconda3\\envs\\data_analysis\\Lib\\R\\library\\00LOCK\\htmltools\\libs\\x64\\htmltools.dll to C:\\Users\\Al-Hassan\\anaconda3\\envs\\data_analysis\\Lib\\R\\library\\htmltools\\libs\\x64\\htmltools.dll: Permission denied\"Warning message:\n",
      "\"restored 'htmltools'\""
     ]
    },
    {
     "name": "stdout",
     "output_type": "stream",
     "text": [
      "package 'sass' successfully unpacked and MD5 sums checked\n",
      "package 'glue' successfully unpacked and MD5 sums checked\n",
      "package 'rappdirs' successfully unpacked and MD5 sums checked\n",
      "package 'rematch' successfully unpacked and MD5 sums checked\n",
      "package 'nlme' successfully unpacked and MD5 sums checked\n",
      "package 'Matrix' successfully unpacked and MD5 sums checked\n",
      "package 'farver' successfully unpacked and MD5 sums checked\n",
      "package 'labeling' successfully unpacked and MD5 sums checked\n",
      "package 'munsell' successfully unpacked and MD5 sums checked\n",
      "package 'viridisLite' successfully unpacked and MD5 sums checked\n",
      "package 'bit64' successfully unpacked and MD5 sums checked\n",
      "package 'prettyunits' successfully unpacked and MD5 sums checked\n",
      "package 'highr' successfully unpacked and MD5 sums checked\n",
      "package 'xfun' successfully unpacked and MD5 sums checked\n",
      "package 'jquerylib' successfully unpacked and MD5 sums checked\n",
      "package 'backports' successfully unpacked and MD5 sums checked\n",
      "package 'assertthat' successfully unpacked and MD5 sums checked\n",
      "package 'tidyselect' successfully unpacked and MD5 sums checked\n",
      "package 'rlang' successfully unpacked and MD5 sums checked\n",
      "package 'vctrs' successfully unpacked and MD5 sums checked\n",
      "package 'data.table' successfully unpacked and MD5 sums checked\n",
      "package 'cli' successfully unpacked and MD5 sums checked\n",
      "package 'cellranger' successfully unpacked and MD5 sums checked\n",
      "package 'ids' successfully unpacked and MD5 sums checked\n",
      "package 'gtable' successfully unpacked and MD5 sums checked\n",
      "package 'isoband' successfully unpacked and MD5 sums checked\n",
      "package 'MASS' successfully unpacked and MD5 sums checked\n",
      "package 'mgcv' successfully unpacked and MD5 sums checked\n",
      "package 'vroom' successfully unpacked and MD5 sums checked\n",
      "package 'tzdb' successfully unpacked and MD5 sums checked\n",
      "package 'progress' successfully unpacked and MD5 sums checked\n",
      "package 'fs' successfully unpacked and MD5 sums checked\n",
      "package 'selectr' successfully unpacked and MD5 sums checked\n",
      "package 'dbplyr' successfully unpacked and MD5 sums checked\n",
      "package 'dplyr' successfully unpacked and MD5 sums checked\n",
      "package 'forcats' successfully unpacked and MD5 sums checked\n",
      "package 'haven' successfully unpacked and MD5 sums checked\n",
      "package 'jsonlite' successfully unpacked and MD5 sums checked\n"
     ]
    },
    {
     "name": "stderr",
     "output_type": "stream",
     "text": [
      "Warning message:\n",
      "\"cannot remove prior installation of package 'jsonlite'\"Warning message in file.copy(savedcopy, lib, recursive = TRUE):\n",
      "\"problem copying C:\\Users\\Al-Hassan\\anaconda3\\envs\\data_analysis\\Lib\\R\\library\\00LOCK\\jsonlite\\libs\\x64\\jsonlite.dll to C:\\Users\\Al-Hassan\\anaconda3\\envs\\data_analysis\\Lib\\R\\library\\jsonlite\\libs\\x64\\jsonlite.dll: Permission denied\"Warning message:\n",
      "\"restored 'jsonlite'\""
     ]
    },
    {
     "name": "stdout",
     "output_type": "stream",
     "text": [
      "package 'lubridate' successfully unpacked and MD5 sums checked\n",
      "package 'modelr' successfully unpacked and MD5 sums checked\n",
      "package 'purrr' successfully unpacked and MD5 sums checked\n",
      "package 'readr' successfully unpacked and MD5 sums checked\n",
      "package 'readxl' successfully unpacked and MD5 sums checked\n",
      "package 'tidyr' successfully unpacked and MD5 sums checked\n",
      "package 'xml2' successfully unpacked and MD5 sums checked\n",
      "package 'tidyverse' successfully unpacked and MD5 sums checked\n",
      "\n",
      "The downloaded binary packages are in\n",
      "\tC:\\Users\\Al-Hassan\\AppData\\Local\\Temp\\RtmpklkfLR\\downloaded_packages\n"
     ]
    },
    {
     "name": "stderr",
     "output_type": "stream",
     "text": [
      "installing the source packages 'RColorBrewer', 'evaluate', 'bslib', 'tinytex', 'generics', 'blob', 'DBI', 'gargle', 'scales', 'cpp11', 'clipr', 'knitr', 'rmarkdown', 'broom', 'crayon', 'dtplyr', 'googledrive', 'googlesheets4', 'ggplot2', 'hms', 'reprex', 'rvest'\n",
      "\n",
      "Warning message in install.packages(\"tidyverse\"):\n",
      "\"installation of package 'bslib' had non-zero exit status\"Warning message in install.packages(\"tidyverse\"):\n",
      "\"installation of package 'tinytex' had non-zero exit status\"Warning message in install.packages(\"tidyverse\"):\n",
      "\"installation of package 'scales' had non-zero exit status\"Warning message in install.packages(\"tidyverse\"):\n",
      "\"installation of package 'knitr' had non-zero exit status\"Warning message in install.packages(\"tidyverse\"):\n",
      "\"installation of package 'rmarkdown' had non-zero exit status\"Warning message in install.packages(\"tidyverse\"):\n",
      "\"installation of package 'ggplot2' had non-zero exit status\"Warning message in install.packages(\"tidyverse\"):\n",
      "\"installation of package 'broom' had non-zero exit status\"Warning message in install.packages(\"tidyverse\"):\n",
      "\"installation of package 'reprex' had non-zero exit status\""
     ]
    }
   ],
   "source": [
    "install.packages(\"tidyverse\")"
   ]
  },
  {
   "cell_type": "code",
   "execution_count": 10,
   "id": "ae449fef",
   "metadata": {},
   "outputs": [
    {
     "name": "stderr",
     "output_type": "stream",
     "text": [
      "also installing the dependencies 'glue', 'cli', 'rlang', 'vctrs'\n",
      "\n"
     ]
    },
    {
     "name": "stdout",
     "output_type": "stream",
     "text": [
      "\n",
      "  There are binary versions available but the source versions are later:\n",
      "      binary source needs_compilation\n",
      "glue   1.4.2  1.6.2              TRUE\n",
      "cli    2.5.0  3.3.0              TRUE\n",
      "rlang 0.4.11  1.0.2              TRUE\n",
      "vctrs  0.3.8  0.4.1              TRUE\n",
      "dplyr  1.0.6  1.0.9              TRUE\n",
      "\n",
      "  Binaries will be installed\n",
      "package 'glue' successfully unpacked and MD5 sums checked\n",
      "package 'cli' successfully unpacked and MD5 sums checked\n",
      "package 'rlang' successfully unpacked and MD5 sums checked\n",
      "package 'vctrs' successfully unpacked and MD5 sums checked\n",
      "package 'dplyr' successfully unpacked and MD5 sums checked\n",
      "\n",
      "The downloaded binary packages are in\n",
      "\tC:\\Users\\Al-Hassan\\AppData\\Local\\Temp\\RtmpklkfLR\\downloaded_packages\n"
     ]
    }
   ],
   "source": [
    "install.packages(\"dplyr\")"
   ]
  },
  {
   "cell_type": "code",
   "execution_count": 11,
   "id": "11b1241c",
   "metadata": {},
   "outputs": [
    {
     "name": "stderr",
     "output_type": "stream",
     "text": [
      "Warning message:\n",
      "\"package 'dplyr' was built under R version 3.6.3\"\n",
      "Attaching package: 'dplyr'\n",
      "\n",
      "The following objects are masked from 'package:stats':\n",
      "\n",
      "    filter, lag\n",
      "\n",
      "The following objects are masked from 'package:base':\n",
      "\n",
      "    intersect, setdiff, setequal, union\n",
      "\n",
      "Warning message:\n",
      "\"package 'lubridate' was built under R version 3.6.3\"\n",
      "Attaching package: 'lubridate'\n",
      "\n",
      "The following objects are masked from 'package:base':\n",
      "\n",
      "    date, intersect, setdiff, union\n",
      "\n"
     ]
    }
   ],
   "source": [
    "library(dplyr)\n",
    "library(lubridate)\n"
   ]
  },
  {
   "cell_type": "code",
   "execution_count": 23,
   "id": "a0b18fa5",
   "metadata": {},
   "outputs": [
    {
     "data": {
      "text/html": [
       "<strong>png:</strong> 2"
      ],
      "text/latex": [
       "\\textbf{png:} 2"
      ],
      "text/markdown": [
       "**png:** 2"
      ],
      "text/plain": [
       "png \n",
       "  2 "
      ]
     },
     "metadata": {},
     "output_type": "display_data"
    }
   ],
   "source": [
    "##Extract file data\n",
    "housedata <-read.table(\"household_power_consumption.txt\", header=TRUE, sep=\";\", na.strings = \"?\")\n",
    "## limit the data from 1/2/2007 and 2/2/2007 for plotting\n",
    "df <-rbind(housedata[housedata$Date==\"1/2/2007\",],housedata[housedata$Date==\"2/2/2007\",])\n",
    "\n",
    "## transform to date format\n",
    "df$Date <- as.Date(df$Date,\"%d/%m/%Y\")\n",
    "df<-cbind(df, \"DateTime\" = as.POSIXct(paste(df$Date, df$Time)))\n",
    "\n",
    "# create histogram\n",
    "png(\"plot1.png\", width = 480, height = 480)\n",
    "hist(as.numeric(df$Global_active_power), col=\"Red\", \n",
    "     main=\"Global Active Power\", xlab=\"Global Active power (kilowatts)\", \n",
    "     ylab=\"Frequency\")\n",
    "dev.off()"
   ]
  },
  {
   "cell_type": "code",
   "execution_count": 25,
   "id": "a24235b7",
   "metadata": {},
   "outputs": [
    {
     "data": {
      "text/html": [
       "<strong>png:</strong> 2"
      ],
      "text/latex": [
       "\\textbf{png:} 2"
      ],
      "text/markdown": [
       "**png:** 2"
      ],
      "text/plain": [
       "png \n",
       "  2 "
      ]
     },
     "metadata": {},
     "output_type": "display_data"
    }
   ],
   "source": [
    "## Similar to plot1.R the first steps are repeated.\n",
    "##Extract file data\n",
    "housedata <-read.table(\"household_power_consumption.txt\", header=TRUE, sep=\";\", na.strings = \"?\")\n",
    "## limit the data from 1/2/2007 and 2/2/2007 for plotting\n",
    "df <-rbind(housedata[housedata$Date==\"1/2/2007\",],housedata[housedata$Date==\"2/2/2007\",])\n",
    "\n",
    "## transform to date format\n",
    "df$Date <- as.Date(df$Date,\"%d/%m/%Y\")\n",
    "df<-cbind(df, \"DateTime\" = as.POSIXct(paste(df$Date, df$Time)))\n",
    "\n",
    "# create the plot\n",
    "png(\"plot2.png\", width = 480, height = 480)\n",
    "plot(df$Global_active_power ~ df$DateTime, type=\"l\", xlab= \"\", ylab=\"Global Active power (kilowatts)\")\n",
    "dev.off()"
   ]
  },
  {
   "cell_type": "code",
   "execution_count": 26,
   "id": "458f9943",
   "metadata": {},
   "outputs": [
    {
     "data": {
      "text/html": [
       "<strong>png:</strong> 2"
      ],
      "text/latex": [
       "\\textbf{png:} 2"
      ],
      "text/markdown": [
       "**png:** 2"
      ],
      "text/plain": [
       "png \n",
       "  2 "
      ]
     },
     "metadata": {},
     "output_type": "display_data"
    }
   ],
   "source": [
    "## Similar to plot2.R the first steps are repeated.\n",
    "##Extract file data\n",
    "housedata <-read.table(\"household_power_consumption.txt\", header=TRUE, sep=\";\", na.strings = \"?\")\n",
    "## limit the data from 1/2/2007 and 2/2/2007 for plotting\n",
    "df <-rbind(housedata[housedata$Date==\"1/2/2007\",],housedata[housedata$Date==\"2/2/2007\",])\n",
    "\n",
    "## transform to date format\n",
    "df$Date <- as.Date(df$Date,\"%d/%m/%Y\")\n",
    "df<-cbind(df, \"DateTime\" = as.POSIXct(paste(df$Date, df$Time)))\n",
    "\n",
    "# create the plot with multiple lines\n",
    "png(\"plot3.png\", width = 480, height = 480)\n",
    "\n",
    "with(df, {plot(Sub_metering_1 ~ DateTime, type=\"l\", xlab= \"\", ylab=\"Energy Sub Metering\")})\n",
    "\n",
    "lines(df$Sub_metering_2 ~ df$DateTime, col = 'Red')\n",
    "lines(df$Sub_metering_3 ~ df$DateTime, col = 'Blue')\n",
    "legend(\"topright\", lty=1, lwd =3, col=c(\"black\",\"red\",\"blue\") ,legend=c(\"Sub_metering_1\",\"Sub_metering_2\",\"Sub_metering_3\"))\n",
    "\n",
    "dev.off()"
   ]
  },
  {
   "cell_type": "code",
   "execution_count": 20,
   "id": "850513b1",
   "metadata": {},
   "outputs": [
    {
     "data": {
      "text/html": [
       "<strong>png:</strong> 2"
      ],
      "text/latex": [
       "\\textbf{png:} 2"
      ],
      "text/markdown": [
       "**png:** 2"
      ],
      "text/plain": [
       "png \n",
       "  2 "
      ]
     },
     "metadata": {},
     "output_type": "display_data"
    }
   ],
   "source": [
    "## Similar to plot3.R the first steps are repeated.\n",
    "##Extract file data\n",
    "housedata <-read.table(\"household_power_consumption.txt\", header=TRUE, sep=\";\", na.strings = \"?\")\n",
    "## limit the data from 1/2/2007 and 2/2/2007 for plotting\n",
    "df <-rbind(housedata[housedata$Date==\"1/2/2007\",],housedata[housedata$Date==\"2/2/2007\",])\n",
    "\n",
    "## transform to date format\n",
    "df$Date <- as.Date(df$Date,\"%d/%m/%Y\")\n",
    "df<-cbind(df, \"DateTime\" = as.POSIXct(paste(df$Date, df$Time)))\n",
    "\n",
    "# create the plot with multiple subplots\n",
    "png(\"plot4.png\", width = 480, height = 480)\n",
    "\n",
    "with(df, {plot(Sub_metering_1 ~ DateTime, type=\"l\", xlab= \"\", ylab=\"Energy Sub Metering\")})\n",
    "\n",
    "par(mfrow=c(2,2))\n",
    "plot(df$Global_active_power ~ df$DateTime, type=\"l\")\n",
    "plot(df$Voltage ~ df$DateTime, type=\"l\")\n",
    "\n",
    "with(df, {plot(Sub_metering_1 ~ DateTime, type=\"l\")})\n",
    "lines(df$Sub_metering_2 ~ df$DateTime, col = 'Red')\n",
    "lines(df$Sub_metering_3 ~ df$DateTime, col = 'Blue')\n",
    "\n",
    "plot(house_a_data$Global_reactive_power ~ house_a_data$DateTime, type=\"l\")\n",
    "dev.off()"
   ]
  },
  {
   "cell_type": "code",
   "execution_count": null,
   "id": "83145e84",
   "metadata": {},
   "outputs": [],
   "source": []
  }
 ],
 "metadata": {
  "kernelspec": {
   "display_name": "R",
   "language": "R",
   "name": "ir"
  },
  "language_info": {
   "codemirror_mode": "r",
   "file_extension": ".r",
   "mimetype": "text/x-r-source",
   "name": "R",
   "pygments_lexer": "r",
   "version": "3.6.1"
  }
 },
 "nbformat": 4,
 "nbformat_minor": 5
}
