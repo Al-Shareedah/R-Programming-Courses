{
 "cells": [
  {
   "cell_type": "markdown",
   "id": "cbb30f81",
   "metadata": {},
   "source": [
    "# Question 1\n"
   ]
  },
  {
   "cell_type": "code",
   "execution_count": 1,
   "id": "e88752db",
   "metadata": {},
   "outputs": [
    {
     "data": {
      "text/html": [
       "<strong>png:</strong> 2"
      ],
      "text/latex": [
       "\\textbf{png:} 2"
      ],
      "text/markdown": [
       "**png:** 2"
      ],
      "text/plain": [
       "png \n",
       "  2 "
      ]
     },
     "metadata": {},
     "output_type": "display_data"
    }
   ],
   "source": [
    "# Load the NEI & SCC data frames.\n",
    "NEI <- readRDS(\"summarySCC_PM25.rds\")\n",
    "SCC <- readRDS(\"Source_Classification_Code.rds\")\n",
    "\n",
    "# Aggregate by sum the total emissions by year\n",
    "aggTotals <- aggregate(Emissions ~ year,NEI, sum)\n",
    "\n",
    "png(\"plot1.png\",width=480,height=480,units=\"px\",bg=\"transparent\")\n",
    "\n",
    "barplot(\n",
    "  (aggTotals$Emissions)/10^6,\n",
    "  names.arg=aggTotals$year,\n",
    "  xlab=\"Year\",\n",
    "  ylab=\"PM2.5 Emissions (10^6 Tons)\",\n",
    "  main=\"Total PM2.5 Emissions From All US Sources\"\n",
    ")\n",
    "\n",
    "dev.off()"
   ]
  },
  {
   "cell_type": "markdown",
   "id": "db0fae76",
   "metadata": {},
   "source": [
    "# Question 2"
   ]
  },
  {
   "cell_type": "code",
   "execution_count": 2,
   "id": "88e9e67f",
   "metadata": {},
   "outputs": [
    {
     "data": {
      "text/html": [
       "<strong>png:</strong> 2"
      ],
      "text/latex": [
       "\\textbf{png:} 2"
      ],
      "text/markdown": [
       "**png:** 2"
      ],
      "text/plain": [
       "png \n",
       "  2 "
      ]
     },
     "metadata": {},
     "output_type": "display_data"
    }
   ],
   "source": [
    "# Load the NEI & SCC data frames.\n",
    "NEI <- readRDS(\"summarySCC_PM25.rds\")\n",
    "SCC <- readRDS(\"Source_Classification_Code.rds\")\n",
    "\n",
    "# Subset NEI data by Baltimore's fip.\n",
    "baltimoreNEI <- NEI[NEI$fips==\"24510\",]\n",
    "\n",
    "# Aggregate using sum the Baltimore emissions data by year\n",
    "aggTotalsBaltimore <- aggregate(Emissions ~ year, baltimoreNEI,sum)\n",
    "\n",
    "png(\"plot2.png\",width=480,height=480,units=\"px\",bg=\"transparent\")\n",
    "\n",
    "barplot(\n",
    "  aggTotalsBaltimore$Emissions,\n",
    "  names.arg=aggTotalsBaltimore$year,\n",
    "  xlab=\"Year\",\n",
    "  ylab=\"PM2.5 Emissions (Tons)\",\n",
    "  main=\"Total PM2.5 Emissions From all Baltimore City Sources\"\n",
    ")\n",
    "\n",
    "dev.off()"
   ]
  },
  {
   "cell_type": "markdown",
   "id": "04b95091",
   "metadata": {},
   "source": [
    "# Question 3\n"
   ]
  },
  {
   "cell_type": "code",
   "execution_count": 4,
   "id": "4442a0f5",
   "metadata": {},
   "outputs": [
    {
     "name": "stderr",
     "output_type": "stream",
     "text": [
      "also installing the dependencies 'rlang', 'scales'\n",
      "\n"
     ]
    },
    {
     "name": "stdout",
     "output_type": "stream",
     "text": [
      "\n",
      "  There are binary versions available but the source versions are later:\n",
      "        binary source needs_compilation\n",
      "rlang   0.4.11  1.0.2              TRUE\n",
      "scales   1.1.1  1.2.0             FALSE\n",
      "ggplot2  3.3.3  3.3.6             FALSE\n",
      "\n",
      "  Binaries will be installed\n",
      "package 'rlang' successfully unpacked and MD5 sums checked\n",
      "\n",
      "The downloaded binary packages are in\n",
      "\tC:\\Users\\Al-Hassan\\AppData\\Local\\Temp\\RtmpMrMrjQ\\downloaded_packages\n"
     ]
    },
    {
     "name": "stderr",
     "output_type": "stream",
     "text": [
      "installing the source packages 'scales', 'ggplot2'\n",
      "\n",
      "Warning message in install.packages(\"ggplot2\"):\n",
      "\"installation of package 'scales' had non-zero exit status\"Warning message in install.packages(\"ggplot2\"):\n",
      "\"installation of package 'ggplot2' had non-zero exit status\""
     ]
    },
    {
     "ename": "ERROR",
     "evalue": "Error in library(ggplot2): there is no package called 'ggplot2'\n",
     "output_type": "error",
     "traceback": [
      "Error in library(ggplot2): there is no package called 'ggplot2'\nTraceback:\n",
      "1. library(ggplot2)"
     ]
    }
   ],
   "source": [
    "install.packages(\"ggplot2\")\n",
    "# Load the NEI & SCC data frames.\n",
    "NEI <- readRDS(\"summarySCC_PM25.rds\")\n",
    "SCC <- readRDS(\"Source_Classification_Code.rds\")\n",
    "\n",
    "# Subset NEI data by Baltimore's fip.\n",
    "baltimoreNEI <- NEI[NEI$fips==\"24510\",]\n",
    "\n",
    "# Aggregate using sum the Baltimore emissions data by year\n",
    "aggTotalsBaltimore <- aggregate(Emissions ~ year, baltimoreNEI,sum)\n",
    "\n",
    "png(\"plot3.png\",width=480,height=480,units=\"px\",bg=\"transparent\")\n",
    "\n",
    "library(ggplot2)\n",
    "\n",
    "ggp <- ggplot(baltimoreNEI,aes(factor(year),Emissions,fill=type)) +\n",
    "  geom_bar(stat=\"identity\") +\n",
    "  theme_bw() + guides(fill=FALSE)+\n",
    "  facet_grid(.~type,scales = \"free\",space=\"free\") + \n",
    "  labs(x=\"year\", y=expression(\"Total PM\"[2.5]*\" Emission (Tons)\")) + \n",
    "  labs(title=expression(\"PM\"[2.5]*\" Emissions, Baltimore City 1999-2008 by Source Type\"))\n",
    "\n",
    "print(ggp)\n",
    "\n",
    "dev.off()"
   ]
  },
  {
   "cell_type": "markdown",
   "id": "8693dd1f",
   "metadata": {},
   "source": [
    "# Question 4"
   ]
  },
  {
   "cell_type": "code",
   "execution_count": 5,
   "id": "ee450f31",
   "metadata": {},
   "outputs": [
    {
     "ename": "ERROR",
     "evalue": "Error in library(ggplot2): there is no package called 'ggplot2'\n",
     "output_type": "error",
     "traceback": [
      "Error in library(ggplot2): there is no package called 'ggplot2'\nTraceback:\n",
      "1. library(ggplot2)"
     ]
    }
   ],
   "source": [
    "# Load the NEI & SCC data frames.\n",
    "NEI <- readRDS(\"summarySCC_PM25.rds\")\n",
    "SCC <- readRDS(\"Source_Classification_Code.rds\")\n",
    "\n",
    "# Subset coal combustion related NEI data\n",
    "combustionRelated <- grepl(\"comb\", SCC$SCC.Level.One, ignore.case=TRUE)\n",
    "coalRelated <- grepl(\"coal\", SCC$SCC.Level.Four, ignore.case=TRUE) \n",
    "coalCombustion <- (combustionRelated & coalRelated)\n",
    "combustionSCC <- SCC[coalCombustion,]$SCC\n",
    "combustionNEI <- NEI[NEI$SCC %in% combustionSCC,]\n",
    "\n",
    "png(\"plot4.png\",width=480,height=480,units=\"px\",bg=\"transparent\")\n",
    "\n",
    "library(ggplot2)\n",
    "\n",
    "ggp <- ggplot(combustionNEI,aes(factor(year),Emissions/10^5)) +\n",
    "  geom_bar(stat=\"identity\",fill=\"grey\",width=0.75) +\n",
    "  theme_bw() +  guides(fill=FALSE) +\n",
    "  labs(x=\"year\", y=expression(\"Total PM\"[2.5]*\" Emission (10^5 Tons)\")) + \n",
    "  labs(title=expression(\"PM\"[2.5]*\" Coal Combustion Source Emissions Across US from 1999-2008\"))\n",
    "\n",
    "print(ggp)\n",
    "\n",
    "dev.off()"
   ]
  },
  {
   "cell_type": "markdown",
   "id": "b75a1eb8",
   "metadata": {},
   "source": [
    "# Question"
   ]
  }
 ],
 "metadata": {
  "kernelspec": {
   "display_name": "R",
   "language": "R",
   "name": "ir"
  },
  "language_info": {
   "codemirror_mode": "r",
   "file_extension": ".r",
   "mimetype": "text/x-r-source",
   "name": "R",
   "pygments_lexer": "r",
   "version": "3.6.1"
  }
 },
 "nbformat": 4,
 "nbformat_minor": 5
}
