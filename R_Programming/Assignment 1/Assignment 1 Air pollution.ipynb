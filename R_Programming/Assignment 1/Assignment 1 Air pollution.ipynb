{
 "cells": [
  {
   "cell_type": "markdown",
   "id": "8dff2403",
   "metadata": {},
   "source": [
    "## First programming assignment \n",
    "Three functions are requested that are meant to interact with dataset that accompanies this assignment. "
   ]
  },
  {
   "cell_type": "markdown",
   "id": "700e9f26",
   "metadata": {},
   "source": [
    "Write a function named 'pollutantmean' that calculates the mean of a pollutant (sulfate or nitrate) across a specified list of monitors. The function 'pollutantmean' takes three arguments: 'directory', 'pollutant', and 'id'. Given a vector monitor ID numbers, 'pollutantmean' reads that monitors' particulate matter data from the directory specified in the 'directory' argument and returns the mean of the pollutant across all of the monitors, ignoring any missing values coded as NA. "
   ]
  },
  {
   "cell_type": "code",
   "execution_count": 45,
   "id": "8500d4fa",
   "metadata": {},
   "outputs": [],
   "source": [
    "pollutantmean <- function(directory, pollutant, id = 1:332) {\n",
    "  \n",
    "    ## 'directory' is a character vector of length 1 indicating\n",
    "    ## the location of the CSV files\n",
    "    \n",
    "    ## 'pollutant' is a character vector of length 1 indicating\n",
    "    ## the name of the pollutant for which we will calculate the\n",
    "    ## mean; either \"sulfate\" or \"nitrate\".\n",
    "    \n",
    "    ## 'id' is an integer vector indicating the monitor ID numbers\n",
    "    ## to be used\n",
    "    \n",
    "    ## Returns the mean of the pollutant across all monitors list\n",
    "    ## in the 'id' vector (ignoring NA values)\n",
    "    \n",
    "    dfs <- (Sys.glob(\"specdata//*.csv\"))[id];\n",
    "    \n",
    "    total_data <- c()\n",
    "    \n",
    "    for (data in dfs) {\n",
    "        file_data <- read.csv(data, sep = \",\");   ## read the data first\n",
    "        pollutant_data <- file_data[,pollutant];  ## what column name is requested\n",
    "        pollutant_data <- pollutant_data[!is.na(pollutant_data)]    ## remove na values\n",
    "        total_data <- c(total_data, pollutant_data)       # combine with total data then repeat\n",
    "    }\n",
    "    \n",
    "    return(mean(total_data));\n",
    "}"
   ]
  },
  {
   "cell_type": "code",
   "execution_count": 42,
   "id": "887317f2",
   "metadata": {},
   "outputs": [
    {
     "data": {
      "text/html": [
       "4.06412824256036"
      ],
      "text/latex": [
       "4.06412824256036"
      ],
      "text/markdown": [
       "4.06412824256036"
      ],
      "text/plain": [
       "[1] 4.064128"
      ]
     },
     "metadata": {},
     "output_type": "display_data"
    }
   ],
   "source": [
    "pollutantmean(\"specdata\", \"sulfate\", 1:10)"
   ]
  },
  {
   "cell_type": "code",
   "execution_count": 43,
   "id": "13241069",
   "metadata": {},
   "outputs": [
    {
     "data": {
      "text/html": [
       "1.70604735169492"
      ],
      "text/latex": [
       "1.70604735169492"
      ],
      "text/markdown": [
       "1.70604735169492"
      ],
      "text/plain": [
       "[1] 1.706047"
      ]
     },
     "metadata": {},
     "output_type": "display_data"
    }
   ],
   "source": [
    "pollutantmean(\"specdata\", \"nitrate\", 70:72)"
   ]
  },
  {
   "cell_type": "code",
   "execution_count": 44,
   "id": "4fad633d",
   "metadata": {},
   "outputs": [
    {
     "data": {
      "text/html": [
       "1.28083333333333"
      ],
      "text/latex": [
       "1.28083333333333"
      ],
      "text/markdown": [
       "1.28083333333333"
      ],
      "text/plain": [
       "[1] 1.280833"
      ]
     },
     "metadata": {},
     "output_type": "display_data"
    }
   ],
   "source": [
    "pollutantmean(\"specdata\", \"nitrate\", 23)"
   ]
  },
  {
   "cell_type": "markdown",
   "id": "bf400dc9",
   "metadata": {},
   "source": [
    "Write a function that reads a directory full of files and reports the number of completely observed cases in each data file. The function should return a data frame where the first column is the name of the file and the second column is the number of complete cases. "
   ]
  },
  {
   "cell_type": "code",
   "execution_count": 50,
   "id": "e84e55be",
   "metadata": {},
   "outputs": [],
   "source": [
    "complete <- function(directory, id = 1:332) {\n",
    "    \n",
    "    ## 'directory' is a character vector of length 1 indicating\n",
    "    ## the location of the CSV files\n",
    "    \n",
    "    ## 'id' is an integer vector indicating the monitor ID numbers\n",
    "    ## to be used\n",
    "    \n",
    "    ## Returns a data frame of the form:\n",
    "    ## id nobs\n",
    "    ## 1  117\n",
    "    ## 2  1041\n",
    "    ## ...\n",
    "    ## where 'id' is the monitor ID number and 'nobs' is the\n",
    "    ## number of complete cases\n",
    "    files <- (Sys.glob(\"specdata//*.csv\"));\n",
    "    nobs <- c();\n",
    "    \n",
    "    for (iloc in id) {\n",
    "        file_data <- read.csv(files[iloc], sep = \",\");\n",
    "        num_complete_cases <- file_data[complete.cases(file_data),];\n",
    "        nobs <- c(nobs, nrow(num_complete_cases));\n",
    "    }\n",
    "    \n",
    "    return(data.frame(cbind(id, nobs)));\n",
    "}"
   ]
  },
  {
   "cell_type": "code",
   "execution_count": 51,
   "id": "c2a9ca0a",
   "metadata": {},
   "outputs": [
    {
     "data": {
      "text/html": [
       "<table>\n",
       "<thead><tr><th scope=col>id</th><th scope=col>nobs</th></tr></thead>\n",
       "<tbody>\n",
       "\t<tr><td>1  </td><td>117</td></tr>\n",
       "</tbody>\n",
       "</table>\n"
      ],
      "text/latex": [
       "\\begin{tabular}{r|ll}\n",
       " id & nobs\\\\\n",
       "\\hline\n",
       "\t 1   & 117\\\\\n",
       "\\end{tabular}\n"
      ],
      "text/markdown": [
       "\n",
       "| id | nobs |\n",
       "|---|---|\n",
       "| 1   | 117 |\n",
       "\n"
      ],
      "text/plain": [
       "  id nobs\n",
       "1 1  117 "
      ]
     },
     "metadata": {},
     "output_type": "display_data"
    }
   ],
   "source": [
    "complete(\"specdata\", 1)"
   ]
  },
  {
   "cell_type": "code",
   "execution_count": 52,
   "id": "6ad3d3d8",
   "metadata": {},
   "outputs": [
    {
     "data": {
      "text/html": [
       "<table>\n",
       "<thead><tr><th scope=col>id</th><th scope=col>nobs</th></tr></thead>\n",
       "<tbody>\n",
       "\t<tr><td> 2  </td><td>1041</td></tr>\n",
       "\t<tr><td> 4  </td><td> 474</td></tr>\n",
       "\t<tr><td> 8  </td><td> 192</td></tr>\n",
       "\t<tr><td>10  </td><td> 148</td></tr>\n",
       "\t<tr><td>12  </td><td>  96</td></tr>\n",
       "</tbody>\n",
       "</table>\n"
      ],
      "text/latex": [
       "\\begin{tabular}{r|ll}\n",
       " id & nobs\\\\\n",
       "\\hline\n",
       "\t  2   & 1041\\\\\n",
       "\t  4   &  474\\\\\n",
       "\t  8   &  192\\\\\n",
       "\t 10   &  148\\\\\n",
       "\t 12   &   96\\\\\n",
       "\\end{tabular}\n"
      ],
      "text/markdown": [
       "\n",
       "| id | nobs |\n",
       "|---|---|\n",
       "|  2   | 1041 |\n",
       "|  4   |  474 |\n",
       "|  8   |  192 |\n",
       "| 10   |  148 |\n",
       "| 12   |   96 |\n",
       "\n"
      ],
      "text/plain": [
       "  id nobs\n",
       "1  2 1041\n",
       "2  4  474\n",
       "3  8  192\n",
       "4 10  148\n",
       "5 12   96"
      ]
     },
     "metadata": {},
     "output_type": "display_data"
    }
   ],
   "source": [
    "complete(\"specdata\", c(2, 4, 8, 10, 12))"
   ]
  },
  {
   "cell_type": "code",
   "execution_count": 53,
   "id": "ef77a0d3",
   "metadata": {},
   "outputs": [
    {
     "data": {
      "text/html": [
       "<table>\n",
       "<thead><tr><th scope=col>id</th><th scope=col>nobs</th></tr></thead>\n",
       "<tbody>\n",
       "\t<tr><td>30 </td><td>932</td></tr>\n",
       "\t<tr><td>29 </td><td>711</td></tr>\n",
       "\t<tr><td>28 </td><td>475</td></tr>\n",
       "\t<tr><td>27 </td><td>338</td></tr>\n",
       "\t<tr><td>26 </td><td>586</td></tr>\n",
       "\t<tr><td>25 </td><td>463</td></tr>\n",
       "</tbody>\n",
       "</table>\n"
      ],
      "text/latex": [
       "\\begin{tabular}{r|ll}\n",
       " id & nobs\\\\\n",
       "\\hline\n",
       "\t 30  & 932\\\\\n",
       "\t 29  & 711\\\\\n",
       "\t 28  & 475\\\\\n",
       "\t 27  & 338\\\\\n",
       "\t 26  & 586\\\\\n",
       "\t 25  & 463\\\\\n",
       "\\end{tabular}\n"
      ],
      "text/markdown": [
       "\n",
       "| id | nobs |\n",
       "|---|---|\n",
       "| 30  | 932 |\n",
       "| 29  | 711 |\n",
       "| 28  | 475 |\n",
       "| 27  | 338 |\n",
       "| 26  | 586 |\n",
       "| 25  | 463 |\n",
       "\n"
      ],
      "text/plain": [
       "  id nobs\n",
       "1 30 932 \n",
       "2 29 711 \n",
       "3 28 475 \n",
       "4 27 338 \n",
       "5 26 586 \n",
       "6 25 463 "
      ]
     },
     "metadata": {},
     "output_type": "display_data"
    }
   ],
   "source": [
    "complete(\"specdata\", 30:25)"
   ]
  },
  {
   "cell_type": "code",
   "execution_count": 54,
   "id": "7d597b1a",
   "metadata": {},
   "outputs": [
    {
     "data": {
      "text/html": [
       "<table>\n",
       "<thead><tr><th scope=col>id</th><th scope=col>nobs</th></tr></thead>\n",
       "<tbody>\n",
       "\t<tr><td>3  </td><td>243</td></tr>\n",
       "</tbody>\n",
       "</table>\n"
      ],
      "text/latex": [
       "\\begin{tabular}{r|ll}\n",
       " id & nobs\\\\\n",
       "\\hline\n",
       "\t 3   & 243\\\\\n",
       "\\end{tabular}\n"
      ],
      "text/markdown": [
       "\n",
       "| id | nobs |\n",
       "|---|---|\n",
       "| 3   | 243 |\n",
       "\n"
      ],
      "text/plain": [
       "  id nobs\n",
       "1 3  243 "
      ]
     },
     "metadata": {},
     "output_type": "display_data"
    }
   ],
   "source": [
    "complete(\"specdata\", 3)"
   ]
  },
  {
   "cell_type": "markdown",
   "id": "634a7496",
   "metadata": {},
   "source": [
    "Write a function that takes a directory of data files and a threshold for complete cases and calculates the correlation between sulfate and nitrate for monitor locations where the number of completely observed cases (on all variables) is greater than the threshold. The function should return a vector of correlations for the monitors that meet the threshold requirement. If no monitors meet the threshold requirement, then the function should return a numeric vector of length 0."
   ]
  },
  {
   "cell_type": "code",
   "execution_count": 56,
   "id": "e9ac74ea",
   "metadata": {},
   "outputs": [],
   "source": [
    "corr <- function(directory, threshold = 0) {\n",
    "    \n",
    "    ## 'directory' is a character vector of length 1 indicating\n",
    "    ## the location of the CSV files\n",
    "    \n",
    "    ## 'threshold' is a numeric vector of length 1 indicating the\n",
    "    ## number of completely observed observations (on all\n",
    "    ## variables) required to compute the correlation between\n",
    "    ## nitrate and sulfate; the default is 0\n",
    "    \n",
    "    ## Returns a numeric vector of correlations\n",
    "    \n",
    "    files <- (Sys.glob(\"specdata//*.csv\"));\n",
    "    \n",
    "    correlations <- c()\n",
    "    \n",
    "    for (file in files) {\n",
    "        polution_data <- read.csv(file, sep = \",\");\n",
    "        complete_cases <- polution_data[complete.cases(polution_data),];\n",
    "        if (nrow(complete_cases) > threshold) {\n",
    "            correlations <- c(correlations, cor(complete_cases$sulfate, complete_cases$nitrate))\n",
    "        }\n",
    "    }\n",
    "    \n",
    "    return(correlations)\n",
    "}"
   ]
  },
  {
   "cell_type": "markdown",
   "id": "a258a304",
   "metadata": {},
   "source": [
    "This function uses the 'cor' function in R which calculates the correlation between two vectors."
   ]
  },
  {
   "cell_type": "code",
   "execution_count": 57,
   "id": "a1956b72",
   "metadata": {},
   "outputs": [
    {
     "data": {
      "text/html": [
       "<ol class=list-inline>\n",
       "\t<li>-0.0189575409702549</li>\n",
       "\t<li>-0.140512544015892</li>\n",
       "\t<li>-0.0438973721387846</li>\n",
       "\t<li>-0.0681595622977732</li>\n",
       "\t<li>-0.123506665841487</li>\n",
       "\t<li>-0.0758881442189889</li>\n",
       "</ol>\n"
      ],
      "text/latex": [
       "\\begin{enumerate*}\n",
       "\\item -0.0189575409702549\n",
       "\\item -0.140512544015892\n",
       "\\item -0.0438973721387846\n",
       "\\item -0.0681595622977732\n",
       "\\item -0.123506665841487\n",
       "\\item -0.0758881442189889\n",
       "\\end{enumerate*}\n"
      ],
      "text/markdown": [
       "1. -0.0189575409702549\n",
       "2. -0.140512544015892\n",
       "3. -0.0438973721387846\n",
       "4. -0.0681595622977732\n",
       "5. -0.123506665841487\n",
       "6. -0.0758881442189889\n",
       "\n",
       "\n"
      ],
      "text/plain": [
       "[1] -0.01895754 -0.14051254 -0.04389737 -0.06815956 -0.12350667 -0.07588814"
      ]
     },
     "metadata": {},
     "output_type": "display_data"
    }
   ],
   "source": [
    "cr <- corr(\"specdata\", 150)\n",
    "head(cr)"
   ]
  },
  {
   "cell_type": "code",
   "execution_count": 58,
   "id": "c1c81487",
   "metadata": {},
   "outputs": [
    {
     "data": {
      "text/plain": [
       "    Min.  1st Qu.   Median     Mean  3rd Qu.     Max. \n",
       "-0.21057 -0.04999  0.09463  0.12525  0.26844  0.76313 "
      ]
     },
     "metadata": {},
     "output_type": "display_data"
    }
   ],
   "source": [
    "summary(cr)"
   ]
  },
  {
   "cell_type": "code",
   "execution_count": 59,
   "id": "e19d9813",
   "metadata": {},
   "outputs": [
    {
     "data": {
      "text/html": [
       "<ol class=list-inline>\n",
       "\t<li>-0.0189575409702549</li>\n",
       "\t<li>-0.0438973721387846</li>\n",
       "\t<li>-0.0681595622977732</li>\n",
       "\t<li>-0.0758881442189889</li>\n",
       "\t<li>0.763128837036294</li>\n",
       "\t<li>-0.157828603403922</li>\n",
       "</ol>\n"
      ],
      "text/latex": [
       "\\begin{enumerate*}\n",
       "\\item -0.0189575409702549\n",
       "\\item -0.0438973721387846\n",
       "\\item -0.0681595622977732\n",
       "\\item -0.0758881442189889\n",
       "\\item 0.763128837036294\n",
       "\\item -0.157828603403922\n",
       "\\end{enumerate*}\n"
      ],
      "text/markdown": [
       "1. -0.0189575409702549\n",
       "2. -0.0438973721387846\n",
       "3. -0.0681595622977732\n",
       "4. -0.0758881442189889\n",
       "5. 0.763128837036294\n",
       "6. -0.157828603403922\n",
       "\n",
       "\n"
      ],
      "text/plain": [
       "[1] -0.01895754 -0.04389737 -0.06815956 -0.07588814  0.76312884 -0.15782860"
      ]
     },
     "metadata": {},
     "output_type": "display_data"
    }
   ],
   "source": [
    "cr <- corr(\"specdata\", 400)\n",
    "head(cr)"
   ]
  },
  {
   "cell_type": "code",
   "execution_count": 60,
   "id": "ddb7bfc4",
   "metadata": {},
   "outputs": [
    {
     "data": {
      "text/plain": [
       "    Min.  1st Qu.   Median     Mean  3rd Qu.     Max. \n",
       "-0.17623 -0.03109  0.10021  0.13969  0.26849  0.76313 "
      ]
     },
     "metadata": {},
     "output_type": "display_data"
    }
   ],
   "source": [
    "summary(cr)"
   ]
  },
  {
   "cell_type": "code",
   "execution_count": 61,
   "id": "d26a271b",
   "metadata": {},
   "outputs": [
    {
     "data": {
      "text/plain": [
       "Length  Class   Mode \n",
       "     0   NULL   NULL "
      ]
     },
     "metadata": {},
     "output_type": "display_data"
    }
   ],
   "source": [
    "cr <- corr(\"specdata\", 5000)\n",
    "summary(cr)"
   ]
  },
  {
   "cell_type": "code",
   "execution_count": 62,
   "id": "f1172fb5",
   "metadata": {},
   "outputs": [
    {
     "data": {
      "text/html": [
       "0"
      ],
      "text/latex": [
       "0"
      ],
      "text/markdown": [
       "0"
      ],
      "text/plain": [
       "[1] 0"
      ]
     },
     "metadata": {},
     "output_type": "display_data"
    }
   ],
   "source": [
    "length(cr)"
   ]
  },
  {
   "cell_type": "code",
   "execution_count": 63,
   "id": "0c1b2367",
   "metadata": {},
   "outputs": [
    {
     "data": {
      "text/plain": [
       "    Min.  1st Qu.   Median     Mean  3rd Qu.     Max. \n",
       "-1.00000 -0.05282  0.10718  0.13684  0.27831  1.00000 "
      ]
     },
     "metadata": {},
     "output_type": "display_data"
    }
   ],
   "source": [
    "cr <- corr(\"specdata\")\n",
    "summary(cr)"
   ]
  },
  {
   "cell_type": "code",
   "execution_count": 64,
   "id": "0d17300a",
   "metadata": {},
   "outputs": [
    {
     "data": {
      "text/html": [
       "323"
      ],
      "text/latex": [
       "323"
      ],
      "text/markdown": [
       "323"
      ],
      "text/plain": [
       "[1] 323"
      ]
     },
     "metadata": {},
     "output_type": "display_data"
    }
   ],
   "source": [
    "length(cr)"
   ]
  },
  {
   "cell_type": "markdown",
   "id": "125c43c6",
   "metadata": {},
   "source": [
    "## This assignment is graded through a quiz "
   ]
  },
  {
   "cell_type": "markdown",
   "id": "e9eb7df3",
   "metadata": {},
   "source": [
    "What followest is the quiz questions"
   ]
  },
  {
   "cell_type": "code",
   "execution_count": 65,
   "id": "d94abb0c",
   "metadata": {},
   "outputs": [
    {
     "data": {
      "text/html": [
       "4.06412824256036"
      ],
      "text/latex": [
       "4.06412824256036"
      ],
      "text/markdown": [
       "4.06412824256036"
      ],
      "text/plain": [
       "[1] 4.064128"
      ]
     },
     "metadata": {},
     "output_type": "display_data"
    }
   ],
   "source": [
    "## What value is returned by the following call to pollutantmean()? You should round your output to 3 digits.\n",
    "pollutantmean(\"specdata\", \"sulfate\", 1:10)"
   ]
  },
  {
   "cell_type": "code",
   "execution_count": 66,
   "id": "30856d0d",
   "metadata": {},
   "outputs": [
    {
     "data": {
      "text/html": [
       "1.70604735169492"
      ],
      "text/latex": [
       "1.70604735169492"
      ],
      "text/markdown": [
       "1.70604735169492"
      ],
      "text/plain": [
       "[1] 1.706047"
      ]
     },
     "metadata": {},
     "output_type": "display_data"
    }
   ],
   "source": [
    "## What value is returned by the following call to pollutantmean()? You should round your output to 3 digits.\n",
    "pollutantmean(\"specdata\", \"nitrate\", 70:72)"
   ]
  },
  {
   "cell_type": "code",
   "execution_count": 67,
   "id": "0b5189da",
   "metadata": {},
   "outputs": [
    {
     "data": {
      "text/html": [
       "1.47714303030303"
      ],
      "text/latex": [
       "1.47714303030303"
      ],
      "text/markdown": [
       "1.47714303030303"
      ],
      "text/plain": [
       "[1] 1.477143"
      ]
     },
     "metadata": {},
     "output_type": "display_data"
    }
   ],
   "source": [
    "## What value is returned by the following call to pollutantmean()? You should round your output to 3 digits.\n",
    "pollutantmean(\"specdata\", \"sulfate\", 34)"
   ]
  },
  {
   "cell_type": "code",
   "execution_count": 68,
   "id": "4fda9293",
   "metadata": {},
   "outputs": [
    {
     "data": {
      "text/html": [
       "1.70293184286701"
      ],
      "text/latex": [
       "1.70293184286701"
      ],
      "text/markdown": [
       "1.70293184286701"
      ],
      "text/plain": [
       "[1] 1.702932"
      ]
     },
     "metadata": {},
     "output_type": "display_data"
    }
   ],
   "source": [
    "## What value is returned by the following call to pollutantmean()? You should round your output to 3 digits.\n",
    "\n",
    "pollutantmean(\"specdata\", \"nitrate\")"
   ]
  },
  {
   "cell_type": "code",
   "execution_count": 70,
   "id": "2b751b7d",
   "metadata": {},
   "outputs": [
    {
     "name": "stdout",
     "output_type": "stream",
     "text": [
      "[1] 228 148 124 165 104 460 232\n"
     ]
    }
   ],
   "source": [
    "## What value is printed at end of the following code?\n",
    "cc <- complete(\"specdata\", c(6, 10, 20, 34, 100, 200, 310))\n",
    "print(cc$nobs)"
   ]
  },
  {
   "cell_type": "code",
   "execution_count": 72,
   "id": "ffa00e13",
   "metadata": {},
   "outputs": [
    {
     "name": "stdout",
     "output_type": "stream",
     "text": [
      "[1] 219\n"
     ]
    }
   ],
   "source": [
    "## What value is printed at end of the following code?\n",
    "cc <- complete(\"specdata\", 54)\n",
    "print(cc$nobs)"
   ]
  },
  {
   "cell_type": "code",
   "execution_count": 73,
   "id": "32a61a1a",
   "metadata": {},
   "outputs": [
    {
     "name": "stderr",
     "output_type": "stream",
     "text": [
      "Warning message in RNGkind(\"Mersenne-Twister\", \"Inversion\", \"Rounding\"):\n",
      "\"non-uniform 'Rounding' sampler used\""
     ]
    },
    {
     "name": "stdout",
     "output_type": "stream",
     "text": [
      " [1] 711 135  74 445 178  73  49   0 687 237\n"
     ]
    }
   ],
   "source": [
    "## What value is printed at end of the following code?\n",
    "RNGversion(\"3.5.1\")  \n",
    "set.seed(42)\n",
    "cc <- complete(\"specdata\", 332:1)\n",
    "use <- sample(332, 10)\n",
    "print(cc[use, \"nobs\"])"
   ]
  },
  {
   "cell_type": "code",
   "execution_count": 74,
   "id": "fd7cc1d5",
   "metadata": {},
   "outputs": [
    {
     "name": "stderr",
     "output_type": "stream",
     "text": [
      "Warning message in RNGkind(\"Mersenne-Twister\", \"Inversion\", \"Rounding\"):\n",
      "\"non-uniform 'Rounding' sampler used\""
     ]
    },
    {
     "name": "stdout",
     "output_type": "stream",
     "text": [
      "[1]  0.2688  0.1127 -0.0085  0.4586  0.0447\n"
     ]
    }
   ],
   "source": [
    "## What value is printed at end of the following code?\n",
    "cr <- corr(\"specdata\")                \n",
    "cr <- sort(cr)   \n",
    "RNGversion(\"3.5.1\")\n",
    "set.seed(868)                \n",
    "out <- round(cr[sample(length(cr), 5)], 4)\n",
    "print(out)"
   ]
  },
  {
   "cell_type": "code",
   "execution_count": 75,
   "id": "70d97cca",
   "metadata": {},
   "outputs": [
    {
     "name": "stderr",
     "output_type": "stream",
     "text": [
      "Warning message in RNGkind(\"Mersenne-Twister\", \"Inversion\", \"Rounding\"):\n",
      "\"non-uniform 'Rounding' sampler used\""
     ]
    },
    {
     "name": "stdout",
     "output_type": "stream",
     "text": [
      "[1] 243.0000   0.2540   0.0504  -0.1462  -0.1680   0.5969\n"
     ]
    }
   ],
   "source": [
    "## What value is printed at end of the following code?\n",
    "cr <- corr(\"specdata\", 129)                \n",
    "cr <- sort(cr)                \n",
    "n <- length(cr)    \n",
    "RNGversion(\"3.5.1\")\n",
    "set.seed(197)                \n",
    "out <- c(n, round(cr[sample(n, 5)], 4))\n",
    "print(out)"
   ]
  },
  {
   "cell_type": "code",
   "execution_count": 76,
   "id": "79872d2d",
   "metadata": {},
   "outputs": [
    {
     "name": "stdout",
     "output_type": "stream",
     "text": [
      "[1]  0.0000 -0.0190  0.0419  0.1901\n"
     ]
    }
   ],
   "source": [
    "## What value is printed at end of the following code?\n",
    "cr <- corr(\"specdata\", 2000)                \n",
    "n <- length(cr)                \n",
    "cr <- corr(\"specdata\", 1000)                \n",
    "cr <- sort(cr)\n",
    "print(c(n, round(cr, 4)))"
   ]
  },
  {
   "cell_type": "code",
   "execution_count": null,
   "id": "c1a3f806",
   "metadata": {},
   "outputs": [],
   "source": []
  }
 ],
 "metadata": {
  "kernelspec": {
   "display_name": "R",
   "language": "R",
   "name": "ir"
  },
  "language_info": {
   "codemirror_mode": "r",
   "file_extension": ".r",
   "mimetype": "text/x-r-source",
   "name": "R",
   "pygments_lexer": "r",
   "version": "3.6.1"
  }
 },
 "nbformat": 4,
 "nbformat_minor": 5
}
