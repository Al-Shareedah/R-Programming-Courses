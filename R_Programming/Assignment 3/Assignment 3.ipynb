{
 "cells": [
  {
   "cell_type": "markdown",
   "id": "d6d8a6e0",
   "metadata": {},
   "source": [
    "<p><span style=\"font-size: 18px;\">In this assignment four tasks are requested:</span></p>\n",
    "<ol>\n",
    "    <li><span style=\"font-size: 18px;\">Plot the 30-day mortality rates for heart attack.</span></li>\n",
    "    <li><span style=\"font-size: 18px;\">Finding the best hospital in a state.</span></li>\n",
    "    <li><span style=\"font-size: 18px;\">Ranking hospitals by the outcome in a state.</span></li>\n",
    "    <li><span style=\"font-size: 18px;\">Ranking hospitals in all states.&nbsp;</span></li>\n",
    "</ol>\n",
    "<p><br></p>"
   ]
  },
  {
   "cell_type": "markdown",
   "id": "ee9aafe5",
   "metadata": {},
   "source": [
    "# Task 1"
   ]
  },
  {
   "cell_type": "code",
   "execution_count": 3,
   "id": "e5b6571b",
   "metadata": {},
   "outputs": [],
   "source": [
    "# Reading in data\n",
    "outcome <- read.csv('outcome-of-care-measures.csv', colClasses = 'character')"
   ]
  },
  {
   "cell_type": "code",
   "execution_count": 4,
   "id": "cd7d68b9",
   "metadata": {},
   "outputs": [
    {
     "data": {
      "text/html": [
       "<table>\n",
       "<thead><tr><th scope=col>Provider.Number</th><th scope=col>Hospital.Name</th><th scope=col>Address.1</th><th scope=col>Address.2</th><th scope=col>Address.3</th><th scope=col>City</th><th scope=col>State</th><th scope=col>ZIP.Code</th><th scope=col>County.Name</th><th scope=col>Phone.Number</th><th scope=col>...</th><th scope=col>Lower.Readmission.Estimate...Hospital.30.Day.Readmission.Rates.from.Heart.Failure</th><th scope=col>Upper.Readmission.Estimate...Hospital.30.Day.Readmission.Rates.from.Heart.Failure</th><th scope=col>Number.of.Patients...Hospital.30.Day.Readmission.Rates.from.Heart.Failure</th><th scope=col>Footnote...Hospital.30.Day.Readmission.Rates.from.Heart.Failure</th><th scope=col>Hospital.30.Day.Readmission.Rates.from.Pneumonia</th><th scope=col>Comparison.to.U.S..Rate...Hospital.30.Day.Readmission.Rates.from.Pneumonia</th><th scope=col>Lower.Readmission.Estimate...Hospital.30.Day.Readmission.Rates.from.Pneumonia</th><th scope=col>Upper.Readmission.Estimate...Hospital.30.Day.Readmission.Rates.from.Pneumonia</th><th scope=col>Number.of.Patients...Hospital.30.Day.Readmission.Rates.from.Pneumonia</th><th scope=col>Footnote...Hospital.30.Day.Readmission.Rates.from.Pneumonia</th></tr></thead>\n",
       "<tbody>\n",
       "\t<tr><td>010001                              </td><td>SOUTHEAST ALABAMA MEDICAL CENTER    </td><td>1108 ROSS CLARK CIRCLE              </td><td>                                    </td><td>                                    </td><td>DOTHAN                              </td><td>AL                                  </td><td>36301                               </td><td>HOUSTON                             </td><td>3347938701                          </td><td>...                                 </td><td>21.3                                </td><td>26.5                                </td><td>891                                 </td><td>                                    </td><td>17.1                                </td><td>No Different than U.S. National Rate</td><td>14.4                                </td><td>20.4                                </td><td>400                                 </td><td>                                    </td></tr>\n",
       "\t<tr><td>010005                              </td><td>MARSHALL MEDICAL CENTER SOUTH       </td><td>2505 U S HIGHWAY 431 NORTH          </td><td>                                    </td><td>                                    </td><td>BOAZ                                </td><td>AL                                  </td><td>35957                               </td><td>MARSHALL                            </td><td>2565938310                          </td><td>...                                 </td><td>19.2                                </td><td>26.1                                </td><td>264                                 </td><td>                                    </td><td>17.6                                </td><td>No Different than U.S. National Rate</td><td>15.0                                </td><td>20.6                                </td><td>374                                 </td><td>                                    </td></tr>\n",
       "\t<tr><td>010006                              </td><td>ELIZA COFFEE MEMORIAL HOSPITAL      </td><td>205 MARENGO STREET                  </td><td>                                    </td><td>                                    </td><td>FLORENCE                            </td><td>AL                                  </td><td>35631                               </td><td>LAUDERDALE                          </td><td>2567688400                          </td><td>...                                 </td><td>17.2                                </td><td>22.9                                </td><td>614                                 </td><td>                                    </td><td>16.9                                </td><td>No Different than U.S. National Rate</td><td>14.7                                </td><td>19.5                                </td><td>842                                 </td><td>                                    </td></tr>\n",
       "\t<tr><td>010007                              </td><td>MIZELL MEMORIAL HOSPITAL            </td><td>702 N MAIN ST                       </td><td>                                    </td><td>                                    </td><td>OPP                                 </td><td>AL                                  </td><td>36467                               </td><td>COVINGTON                           </td><td>3344933541                          </td><td>...                                 </td><td>22.4                                </td><td>31.9                                </td><td>135                                 </td><td>                                    </td><td>19.4                                </td><td>No Different than U.S. National Rate</td><td>15.9                                </td><td>23.2                                </td><td>254                                 </td><td>                                    </td></tr>\n",
       "\t<tr><td>010008                              </td><td>CRENSHAW COMMUNITY HOSPITAL         </td><td>101 HOSPITAL CIRCLE                 </td><td>                                    </td><td>                                    </td><td>LUVERNE                             </td><td>AL                                  </td><td>36049                               </td><td>CRENSHAW                            </td><td>3343353374                          </td><td>...                                 </td><td>19.9                                </td><td>30.2                                </td><td>59                                  </td><td>                                    </td><td>18.0                                </td><td>No Different than U.S. National Rate</td><td>14.0                                </td><td>22.8                                </td><td>56                                  </td><td>                                    </td></tr>\n",
       "\t<tr><td>010010                              </td><td>MARSHALL MEDICAL CENTER NORTH       </td><td>8000 ALABAMA HIGHWAY 69             </td><td>                                    </td><td>                                    </td><td>GUNTERSVILLE                        </td><td>AL                                  </td><td>35976                               </td><td>MARSHALL                            </td><td>2565718000                          </td><td>...                                 </td><td>20.1                                </td><td>28.2                                </td><td>173                                 </td><td>                                    </td><td>18.7                                </td><td>No Different than U.S. National Rate</td><td>15.7                                </td><td>22.2                                </td><td>326                                 </td><td>                                    </td></tr>\n",
       "</tbody>\n",
       "</table>\n"
      ],
      "text/latex": [
       "\\begin{tabular}{r|llllllllllllllllllllllllllllllllllllllllllllll}\n",
       " Provider.Number & Hospital.Name & Address.1 & Address.2 & Address.3 & City & State & ZIP.Code & County.Name & Phone.Number & ... & Lower.Readmission.Estimate...Hospital.30.Day.Readmission.Rates.from.Heart.Failure & Upper.Readmission.Estimate...Hospital.30.Day.Readmission.Rates.from.Heart.Failure & Number.of.Patients...Hospital.30.Day.Readmission.Rates.from.Heart.Failure & Footnote...Hospital.30.Day.Readmission.Rates.from.Heart.Failure & Hospital.30.Day.Readmission.Rates.from.Pneumonia & Comparison.to.U.S..Rate...Hospital.30.Day.Readmission.Rates.from.Pneumonia & Lower.Readmission.Estimate...Hospital.30.Day.Readmission.Rates.from.Pneumonia & Upper.Readmission.Estimate...Hospital.30.Day.Readmission.Rates.from.Pneumonia & Number.of.Patients...Hospital.30.Day.Readmission.Rates.from.Pneumonia & Footnote...Hospital.30.Day.Readmission.Rates.from.Pneumonia\\\\\n",
       "\\hline\n",
       "\t 010001                               & SOUTHEAST ALABAMA MEDICAL CENTER     & 1108 ROSS CLARK CIRCLE               &                                      &                                      & DOTHAN                               & AL                                   & 36301                                & HOUSTON                              & 3347938701                           & ...                                  & 21.3                                 & 26.5                                 & 891                                  &                                      & 17.1                                 & No Different than U.S. National Rate & 14.4                                 & 20.4                                 & 400                                  &                                     \\\\\n",
       "\t 010005                               & MARSHALL MEDICAL CENTER SOUTH        & 2505 U S HIGHWAY 431 NORTH           &                                      &                                      & BOAZ                                 & AL                                   & 35957                                & MARSHALL                             & 2565938310                           & ...                                  & 19.2                                 & 26.1                                 & 264                                  &                                      & 17.6                                 & No Different than U.S. National Rate & 15.0                                 & 20.6                                 & 374                                  &                                     \\\\\n",
       "\t 010006                               & ELIZA COFFEE MEMORIAL HOSPITAL       & 205 MARENGO STREET                   &                                      &                                      & FLORENCE                             & AL                                   & 35631                                & LAUDERDALE                           & 2567688400                           & ...                                  & 17.2                                 & 22.9                                 & 614                                  &                                      & 16.9                                 & No Different than U.S. National Rate & 14.7                                 & 19.5                                 & 842                                  &                                     \\\\\n",
       "\t 010007                               & MIZELL MEMORIAL HOSPITAL             & 702 N MAIN ST                        &                                      &                                      & OPP                                  & AL                                   & 36467                                & COVINGTON                            & 3344933541                           & ...                                  & 22.4                                 & 31.9                                 & 135                                  &                                      & 19.4                                 & No Different than U.S. National Rate & 15.9                                 & 23.2                                 & 254                                  &                                     \\\\\n",
       "\t 010008                               & CRENSHAW COMMUNITY HOSPITAL          & 101 HOSPITAL CIRCLE                  &                                      &                                      & LUVERNE                              & AL                                   & 36049                                & CRENSHAW                             & 3343353374                           & ...                                  & 19.9                                 & 30.2                                 & 59                                   &                                      & 18.0                                 & No Different than U.S. National Rate & 14.0                                 & 22.8                                 & 56                                   &                                     \\\\\n",
       "\t 010010                               & MARSHALL MEDICAL CENTER NORTH        & 8000 ALABAMA HIGHWAY 69              &                                      &                                      & GUNTERSVILLE                         & AL                                   & 35976                                & MARSHALL                             & 2565718000                           & ...                                  & 20.1                                 & 28.2                                 & 173                                  &                                      & 18.7                                 & No Different than U.S. National Rate & 15.7                                 & 22.2                                 & 326                                  &                                     \\\\\n",
       "\\end{tabular}\n"
      ],
      "text/markdown": [
       "\n",
       "| Provider.Number | Hospital.Name | Address.1 | Address.2 | Address.3 | City | State | ZIP.Code | County.Name | Phone.Number | ... | Lower.Readmission.Estimate...Hospital.30.Day.Readmission.Rates.from.Heart.Failure | Upper.Readmission.Estimate...Hospital.30.Day.Readmission.Rates.from.Heart.Failure | Number.of.Patients...Hospital.30.Day.Readmission.Rates.from.Heart.Failure | Footnote...Hospital.30.Day.Readmission.Rates.from.Heart.Failure | Hospital.30.Day.Readmission.Rates.from.Pneumonia | Comparison.to.U.S..Rate...Hospital.30.Day.Readmission.Rates.from.Pneumonia | Lower.Readmission.Estimate...Hospital.30.Day.Readmission.Rates.from.Pneumonia | Upper.Readmission.Estimate...Hospital.30.Day.Readmission.Rates.from.Pneumonia | Number.of.Patients...Hospital.30.Day.Readmission.Rates.from.Pneumonia | Footnote...Hospital.30.Day.Readmission.Rates.from.Pneumonia |\n",
       "|---|---|---|---|---|---|---|---|---|---|---|---|---|---|---|---|---|---|---|---|---|\n",
       "| 010001                               | SOUTHEAST ALABAMA MEDICAL CENTER     | 1108 ROSS CLARK CIRCLE               |                                      |                                      | DOTHAN                               | AL                                   | 36301                                | HOUSTON                              | 3347938701                           | ...                                  | 21.3                                 | 26.5                                 | 891                                  |                                      | 17.1                                 | No Different than U.S. National Rate | 14.4                                 | 20.4                                 | 400                                  |                                      |\n",
       "| 010005                               | MARSHALL MEDICAL CENTER SOUTH        | 2505 U S HIGHWAY 431 NORTH           |                                      |                                      | BOAZ                                 | AL                                   | 35957                                | MARSHALL                             | 2565938310                           | ...                                  | 19.2                                 | 26.1                                 | 264                                  |                                      | 17.6                                 | No Different than U.S. National Rate | 15.0                                 | 20.6                                 | 374                                  |                                      |\n",
       "| 010006                               | ELIZA COFFEE MEMORIAL HOSPITAL       | 205 MARENGO STREET                   |                                      |                                      | FLORENCE                             | AL                                   | 35631                                | LAUDERDALE                           | 2567688400                           | ...                                  | 17.2                                 | 22.9                                 | 614                                  |                                      | 16.9                                 | No Different than U.S. National Rate | 14.7                                 | 19.5                                 | 842                                  |                                      |\n",
       "| 010007                               | MIZELL MEMORIAL HOSPITAL             | 702 N MAIN ST                        |                                      |                                      | OPP                                  | AL                                   | 36467                                | COVINGTON                            | 3344933541                           | ...                                  | 22.4                                 | 31.9                                 | 135                                  |                                      | 19.4                                 | No Different than U.S. National Rate | 15.9                                 | 23.2                                 | 254                                  |                                      |\n",
       "| 010008                               | CRENSHAW COMMUNITY HOSPITAL          | 101 HOSPITAL CIRCLE                  |                                      |                                      | LUVERNE                              | AL                                   | 36049                                | CRENSHAW                             | 3343353374                           | ...                                  | 19.9                                 | 30.2                                 | 59                                   |                                      | 18.0                                 | No Different than U.S. National Rate | 14.0                                 | 22.8                                 | 56                                   |                                      |\n",
       "| 010010                               | MARSHALL MEDICAL CENTER NORTH        | 8000 ALABAMA HIGHWAY 69              |                                      |                                      | GUNTERSVILLE                         | AL                                   | 35976                                | MARSHALL                             | 2565718000                           | ...                                  | 20.1                                 | 28.2                                 | 173                                  |                                      | 18.7                                 | No Different than U.S. National Rate | 15.7                                 | 22.2                                 | 326                                  |                                      |\n",
       "\n"
      ],
      "text/plain": [
       "  Provider.Number Hospital.Name                    Address.1                 \n",
       "1 010001          SOUTHEAST ALABAMA MEDICAL CENTER 1108 ROSS CLARK CIRCLE    \n",
       "2 010005          MARSHALL MEDICAL CENTER SOUTH    2505 U S HIGHWAY 431 NORTH\n",
       "3 010006          ELIZA COFFEE MEMORIAL HOSPITAL   205 MARENGO STREET        \n",
       "4 010007          MIZELL MEMORIAL HOSPITAL         702 N MAIN ST             \n",
       "5 010008          CRENSHAW COMMUNITY HOSPITAL      101 HOSPITAL CIRCLE       \n",
       "6 010010          MARSHALL MEDICAL CENTER NORTH    8000 ALABAMA HIGHWAY 69   \n",
       "  Address.2 Address.3 City         State ZIP.Code County.Name Phone.Number ...\n",
       "1                     DOTHAN       AL    36301    HOUSTON     3347938701   ...\n",
       "2                     BOAZ         AL    35957    MARSHALL    2565938310   ...\n",
       "3                     FLORENCE     AL    35631    LAUDERDALE  2567688400   ...\n",
       "4                     OPP          AL    36467    COVINGTON   3344933541   ...\n",
       "5                     LUVERNE      AL    36049    CRENSHAW    3343353374   ...\n",
       "6                     GUNTERSVILLE AL    35976    MARSHALL    2565718000   ...\n",
       "  Lower.Readmission.Estimate...Hospital.30.Day.Readmission.Rates.from.Heart.Failure\n",
       "1 21.3                                                                             \n",
       "2 19.2                                                                             \n",
       "3 17.2                                                                             \n",
       "4 22.4                                                                             \n",
       "5 19.9                                                                             \n",
       "6 20.1                                                                             \n",
       "  Upper.Readmission.Estimate...Hospital.30.Day.Readmission.Rates.from.Heart.Failure\n",
       "1 26.5                                                                             \n",
       "2 26.1                                                                             \n",
       "3 22.9                                                                             \n",
       "4 31.9                                                                             \n",
       "5 30.2                                                                             \n",
       "6 28.2                                                                             \n",
       "  Number.of.Patients...Hospital.30.Day.Readmission.Rates.from.Heart.Failure\n",
       "1 891                                                                      \n",
       "2 264                                                                      \n",
       "3 614                                                                      \n",
       "4 135                                                                      \n",
       "5 59                                                                       \n",
       "6 173                                                                      \n",
       "  Footnote...Hospital.30.Day.Readmission.Rates.from.Heart.Failure\n",
       "1                                                                \n",
       "2                                                                \n",
       "3                                                                \n",
       "4                                                                \n",
       "5                                                                \n",
       "6                                                                \n",
       "  Hospital.30.Day.Readmission.Rates.from.Pneumonia\n",
       "1 17.1                                            \n",
       "2 17.6                                            \n",
       "3 16.9                                            \n",
       "4 19.4                                            \n",
       "5 18.0                                            \n",
       "6 18.7                                            \n",
       "  Comparison.to.U.S..Rate...Hospital.30.Day.Readmission.Rates.from.Pneumonia\n",
       "1 No Different than U.S. National Rate                                      \n",
       "2 No Different than U.S. National Rate                                      \n",
       "3 No Different than U.S. National Rate                                      \n",
       "4 No Different than U.S. National Rate                                      \n",
       "5 No Different than U.S. National Rate                                      \n",
       "6 No Different than U.S. National Rate                                      \n",
       "  Lower.Readmission.Estimate...Hospital.30.Day.Readmission.Rates.from.Pneumonia\n",
       "1 14.4                                                                         \n",
       "2 15.0                                                                         \n",
       "3 14.7                                                                         \n",
       "4 15.9                                                                         \n",
       "5 14.0                                                                         \n",
       "6 15.7                                                                         \n",
       "  Upper.Readmission.Estimate...Hospital.30.Day.Readmission.Rates.from.Pneumonia\n",
       "1 20.4                                                                         \n",
       "2 20.6                                                                         \n",
       "3 19.5                                                                         \n",
       "4 23.2                                                                         \n",
       "5 22.8                                                                         \n",
       "6 22.2                                                                         \n",
       "  Number.of.Patients...Hospital.30.Day.Readmission.Rates.from.Pneumonia\n",
       "1 400                                                                  \n",
       "2 374                                                                  \n",
       "3 842                                                                  \n",
       "4 254                                                                  \n",
       "5 56                                                                   \n",
       "6 326                                                                  \n",
       "  Footnote...Hospital.30.Day.Readmission.Rates.from.Pneumonia\n",
       "1                                                            \n",
       "2                                                            \n",
       "3                                                            \n",
       "4                                                            \n",
       "5                                                            \n",
       "6                                                            "
      ]
     },
     "metadata": {},
     "output_type": "display_data"
    }
   ],
   "source": [
    "head(outcome)"
   ]
  },
  {
   "cell_type": "code",
   "execution_count": 6,
   "id": "1a672ade",
   "metadata": {},
   "outputs": [
    {
     "name": "stderr",
     "output_type": "stream",
     "text": [
      "Warning message in eval(expr, envir, enclos):\n",
      "\"NAs introduced by coercion\""
     ]
    },
    {
     "data": {
      "image/png": "[encoded data removed]",
      "text/plain": [
       "Plot with title \"Histogram of outcome[, 11]\""
      ]
     },
     "metadata": {},
     "output_type": "display_data"
    }
   ],
   "source": [
    "outcome[, 11] <- as.numeric(outcome[, 11])\n",
    "hist(outcome[, 11])"
   ]
  },
  {
   "cell_type": "markdown",
   "id": "ee0cc5e7",
   "metadata": {},
   "source": [
    "# Task 2"
   ]
  },
  {
   "cell_type": "code",
   "execution_count": 7,
   "id": "5bd6897d",
   "metadata": {},
   "outputs": [],
   "source": [
    "best <- function(state, outcome) {\n",
    "    \n",
    "    ## start by reading the outcome data\n",
    "    file_data <- read.csv(\"outcome-of-care-measures.csv\", sep = \",\")\n",
    "    \n",
    "    ## validate the state and outcome\n",
    "    states_val <- c(\"AL\", \"AK\", \"AZ\", \"AR\", \"CA\", \"CO\", \"CT\", \"DE\", \"FL\", \"GA\", \"HI\", \"ID\", \"IL\", \"IN\", \"IA\", \"KS\", \"KY\", \"LA\", \"ME\", \"MD\", \"MA\", \"MI\", \"MN\", \"MS\", \"MO\", \"MT\", \"NE\", \"NV\", \"NH\", \"NJ\", \"NM\", \"NY\", \"NC\", \"ND\", \"OH\", \"OK\", \"OR\", \"PA\", \"RI\", \"SC\", \"SD\", \"TN\", \"TX\", \"UT\", \"VT\", \"VA\", \"WA\", \"WV\", \"WI\", \"WY\")\n",
    "    outcomes_val <- c(\"heart attack\", \"heart failure\", \"pneumonia\")\n",
    "    ## display error message if wrong\n",
    "    if (!is.element(state, states_val)) stop(\"invalid state\") \n",
    "    if (!is.element(outcome, outcomes_val)) stop(\"invalid outcome\") \n",
    "    \n",
    "    ## Identify hospital with lowest 30-day of deaths, return the name\n",
    "    data <- file_data[file_data$State == state,]\n",
    "    header_name <- NULL\n",
    "    if (outcome == \"heart attack\") {\n",
    "        header_name <- \"Hospital.30.Day.Death..Mortality..Rates.from.Heart.Attack\"\n",
    "    } else if (outcome == \"heart failure\") {\n",
    "        header_name <- \"Hospital.30.Day.Death..Mortality..Rates.from.Heart.Failure\"\n",
    "    } else {\n",
    "        header_name <- \"Hospital.30.Day.Death..Mortality..Rates.from.Pneumonia\"\n",
    "    }\n",
    "    mortality_rate <- data[,header_name]\n",
    "    mortality_rate <- mortality_rate[!mortality_rate == \"Not Available\"]\n",
    "    mortality_rate <- as.numeric(as.character(mortality_rate))\n",
    "    ## find the minimum\n",
    "    min_rate <- min(mortality_rate)\n",
    "    ## best is the one with min_rate\n",
    "    best_hosps <- data[data[,header_name] == min_rate,]\n",
    "    hosp_names <- sort(best_hosps[,\"Hospital.Name\"])\n",
    "    return(as.character(hosp_names[1]))\n",
    "}"
   ]
  },
  {
   "cell_type": "markdown",
   "id": "6d3cc627",
   "metadata": {},
   "source": [
    "# Task 3"
   ]
  },
  {
   "cell_type": "code",
   "execution_count": 9,
   "id": "81f1340e",
   "metadata": {},
   "outputs": [],
   "source": [
    "rankhospital <- function(state, outcome, num = \"best\") {\n",
    "  \n",
    "  # Read outcome data\n",
    "  out_data <- read.csv(\"outcome-of-care-measures.csv\", sep = \",\")\n",
    "  \n",
    "    ## validate the state and outcome\n",
    "    states_val <- c(\"AL\", \"AK\", \"AZ\", \"AR\", \"CA\", \"CO\", \"CT\", \"DE\", \"FL\", \"GA\", \"HI\", \"ID\", \"IL\", \"IN\", \"IA\", \"KS\", \"KY\", \"LA\", \"ME\", \"MD\", \"MA\", \"MI\", \"MN\", \"MS\", \"MO\", \"MT\", \"NE\", \"NV\", \"NH\", \"NJ\", \"NM\", \"NY\", \"NC\", \"ND\", \"OH\", \"OK\", \"OR\", \"PA\", \"RI\", \"SC\", \"SD\", \"TN\", \"TX\", \"UT\", \"VT\", \"VA\", \"WA\", \"WV\", \"WI\", \"WY\")\n",
    "    outcomes_val <- c(\"heart attack\", \"heart failure\", \"pneumonia\")\n",
    "    \n",
    "    ## display error message if wrong\n",
    "    if (!is.element(state, states_val)) stop(\"invalid state\") \n",
    "    if (!is.element(outcome, outcomes_val)) stop(\"invalid outcome\") \n",
    "    \n",
    "     ## Returns hospital name in that state with lowest 30-day death\n",
    "    data <- file_data[file_data$State == state,]\n",
    "    header_name <- NULL\n",
    "    if (outcome == \"heart attack\") header_name <- \"Hospital.30.Day.Death..Mortality..Rates.from.Heart.Attack\"\n",
    "    else if (outcome == \"heart failure\") header_name <- \"Hospital.30.Day.Death..Mortality..Rates.from.Heart.Failure\"\n",
    "    else header_name <- \"Hospital.30.Day.Death..Mortality..Rates.from.Pneumonia\"\n",
    "    \n",
    "    sorted_data <- data[order(as.numeric(as.character(data[,header_name])), as.character(data[,\"Hospital.Name\"])),]\n",
    "    sorted_data <- sorted_data[!sorted_data[,header_name] == \"Not Available\",]\n",
    "    if (num == \"best\") {\n",
    "        return(best(state, outcome))\n",
    "    } else if (num == \"worst\") {\n",
    "        return(tail(as.character(sorted_data[,\"Hospital.Name\"]), n = 1))\n",
    "    }\n",
    "    return(as.character(sorted_data[,\"Hospital.Name\"][num]))\n",
    "\n",
    "\n",
    "}"
   ]
  },
  {
   "cell_type": "markdown",
   "id": "c8873ef1",
   "metadata": {},
   "source": [
    "# Task 4"
   ]
  },
  {
   "cell_type": "code",
   "execution_count": 10,
   "id": "d777e056",
   "metadata": {},
   "outputs": [],
   "source": [
    "rankall <- function(outcome, num = \"best\") {\n",
    "    \n",
    "    ## Reads outcome data\n",
    "    file_data <- read.csv(\"outcome-of-care-measures.csv\", sep = \",\")\n",
    "    \n",
    "    ## Checks that state and outcome are valid\n",
    "    valid_states <- c(\"AK\", \"AL\", \"AR\", \"AZ\", \"CA\", \"CO\", \"CT\", \"DE\", \"FL\", \"GA\", \"HI\", \"IA\", \"ID\", \"IL\", \"IN\", \"KS\", \"KY\", \"LA\", \"MA\", \"MD\", \"ME\", \"MI\", \"MN\", \"MO\", \"MS\", \"MT\", \"NC\", \"ND\", \"NE\", \"NH\", \"NJ\", \"NM\", \"NV\", \"NY\", \"OH\", \"OK\", \"OR\", \"PA\", \"RI\", \"SC\", \"SD\", \"TN\", \"TX\", \"UT\", \"VA\", \"VT\", \"WA\", \"WI\", \"WV\", \"WY\")\n",
    "    valid_outcomes <- c(\"heart attack\", \"heart failure\", \"pneumonia\")\n",
    "    if (!is.element(outcome, valid_outcomes)) stop(\"invalid outcome\")\n",
    "    \n",
    "    header_name <- NULL\n",
    "    if (outcome == \"heart attack\") header_name <- \"Hospital.30.Day.Death..Mortality..Rates.from.Heart.Attack\"\n",
    "    else if (outcome == \"heart failure\") header_name <- \"Hospital.30.Day.Death..Mortality..Rates.from.Heart.Failure\"\n",
    "    else header_name <- \"Hospital.30.Day.Death..Mortality..Rates.from.Pneumonia\"\n",
    "    \n",
    "    hosps <- c()\n",
    "    states <- c()\n",
    "    \n",
    "    ## For each state, finds the hospital of the given rank\n",
    "    for (state in valid_states) {\n",
    "        ranked_hosp <- c()\n",
    "        data <- file_data[file_data$State == state,]        \n",
    "        sorted_data <- data[order(as.numeric(as.character(data[,header_name])), as.character(data[,\"Hospital.Name\"])),]\n",
    "        sorted_data <- sorted_data[!sorted_data[,header_name] == \"Not Available\",]\n",
    "        if (num == \"best\") {\n",
    "            ranked_hosp <- best(state, outcome)\n",
    "        } else if (num == \"worst\") {\n",
    "            ranked_hosp <- as.character(tail(sorted_data[,\"Hospital.Name\"], n = 1))\n",
    "        } else {\n",
    "            ranked_hosp <- as.character(sorted_data[,\"Hospital.Name\"][num])\n",
    "        }\n",
    "        hosps <- c(hosps, ranked_hosp)\n",
    "    }\n",
    "    result <- data.frame(hosps, valid_states)\n",
    "    colnames(result) <- c(\"hospital\", \"state\")\n",
    "    return(result)\n",
    "}"
   ]
  },
  {
   "cell_type": "code",
   "execution_count": null,
   "id": "e5f0c030",
   "metadata": {},
   "outputs": [],
   "source": []
  }
 ],
 "metadata": {
  "kernelspec": {
   "display_name": "R",
   "language": "R",
   "name": "ir"
  },
  "language_info": {
   "codemirror_mode": "r",
   "file_extension": ".r",
   "mimetype": "text/x-r-source",
   "name": "R",
   "pygments_lexer": "r",
   "version": "3.6.1"
  }
 },
 "nbformat": 4,
 "nbformat_minor": 5
}
